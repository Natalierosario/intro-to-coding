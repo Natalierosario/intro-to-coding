{
 "cells": [
  {
   "cell_type": "markdown",
   "id": "40875c6b",
   "metadata": {},
   "source": [
    "# problem 4\n",
    "Write a Python function to combine two dictionaries adding values for common keys. \n",
    "\n",
    "d1 = {'a': 100, 'b': 200, 'c':300}\n",
    "d2 = {'a': 300, 'b': 200, 'd':400}\n",
    "\n",
    "Sample output: \t{'a': 400, 'b': 400, 'd': 400, 'c': 300}"
   ]
  },
  {
   "cell_type": "code",
   "execution_count": 7,
   "id": "6af12ed3",
   "metadata": {},
   "outputs": [
    {
     "name": "stdout",
     "output_type": "stream",
     "text": [
      "{'a': 400, 'b': 400, 'c': 300, 'd': 400}\n"
     ]
    }
   ],
   "source": [
    "def combine_dicts(d1,d2):\n",
    "    # print(d1.keys())\n",
    "    for i in d2.keys():\n",
    "\n",
    "        if i in d1.keys():\n",
    "            # print(i,type(i))\n",
    "            d1[i] += d2[i]\n",
    "        else: \n",
    "            # print(i, type(i))\n",
    "            d1[i] = d2[i]\n",
    "    return d1\n",
    "\n",
    "\n",
    "d1 = {'a': 100, 'b': 200, 'c':300}\n",
    "d2 = {'a': 300, 'b': 200, 'd':400}\n",
    "final = combine_dicts(d1,d2)\n",
    "print(final)\n"
   ]
  },
  {
   "cell_type": "markdown",
   "id": "3ff2279c",
   "metadata": {},
   "source": [
    "# problem 5\n",
    "Write a Python function that takes a string as a parameter and returns a dictionary that tracks the count of the letters from the string. \n",
    "\n",
    "Sample string: \t'Portland High School'\n",
    "Expected Output:\t{'p': 1, 'o': 3, 'r': 1, 't': 1, 'l': 2, 'a': 1, 'n': 1, 'd': 1, \n",
    "'h': 3, 'i': 1, 'g': 1, 's': 1, 'c': 1}\n"
   ]
  },
  {
   "cell_type": "code",
   "execution_count": null,
   "id": "c1867beb",
   "metadata": {},
   "outputs": [
    {
     "name": "stdout",
     "output_type": "stream",
     "text": [
      "{'p': 1, 'o': 3, 'r': 1, 't': 1, 'l': 2, 'a': 1, 'n': 1, 'd': 1, ' ': 2, 'h': 3, 'i': 1, 'g': 1, 's': 1, 'c': 1}\n"
     ]
    }
   ],
   "source": [
    "def num_of_letters(str):\n",
    "    new_dict = {}\n",
    "    str = str.lower()\n",
    "    for i in str:\n",
    "        howmany = str.count(i)\n",
    "        # return(howmany)\n",
    "        new_dict[i] = howmany\n",
    "    return (new_dict)\n",
    "\n",
    "print (num_of_letters('Portland High School'))"
   ]
  },
  {
   "cell_type": "markdown",
   "id": "42f5b7ed",
   "metadata": {},
   "source": [
    "# problem 6\n",
    "Write a Python function that takes a dictionary as a parameter and returns the top three items in a shop. \n",
    "\n",
    "Sample data: \t{'item1': 45.50, 'item2':35, 'item3': 41.30, \n",
    "'item4':55, 'item5': 24}\n",
    "\n",
    "Expected Output:\n",
    "item4 55\n",
    "item1 45.5\n",
    "item3 41.3\n",
    "\n"
   ]
  },
  {
   "cell_type": "code",
   "execution_count": 32,
   "id": "b3f46594",
   "metadata": {},
   "outputs": [
    {
     "name": "stdout",
     "output_type": "stream",
     "text": [
      "[[55, 'item4'], [45.5, 'item1'], [41.3, 'item3']]\n",
      "None\n"
     ]
    }
   ],
   "source": [
    "def itemshop(dict):\n",
    "    list1 = []\n",
    "    list2 = []\n",
    "    for keys,values in dict.items():\n",
    "        # list3.(keys,values)\n",
    "        list1.append([values,keys])\n",
    "    list1.sort(reverse=True)\n",
    "    # print(list1)\n",
    "    hey = list1[:3]\n",
    "\n",
    "    print(hey)\n",
    "\n",
    "    \n",
    "    # print(list1.append[hey])\n",
    "#print each value in list\n",
    "    \n",
    "\n",
    "        # values = dict.values()\n",
    "        # values = int(values)\n",
    "        # print(values)\n",
    "        # # list = list.append(values)\n",
    "        # # print(list)\n",
    "        # sorted_values = values.sort()\n",
    "        # # return sorted_values[:3]\n",
    "    \n",
    "\n",
    "\n",
    "dictionary = {'item1': 45.50, 'item2':35, 'item3': 41.30, 'item4':55, 'item5': 24}\n",
    "\n",
    "final = itemshop(dictionary)\n",
    "print(final)\n"
   ]
  },
  {
   "cell_type": "markdown",
   "id": "b7ae2f88",
   "metadata": {},
   "source": [
    "# Problem 7\n",
    "Write a Python function that takes dictionary, height, and weight parameters and returns a dictionary with the students filtered by the height and weight params.\n",
    "\n",
    "Original Dictionary:\n",
    "{'Cierra Vega': (6.2, 70), \n",
    "'Alden Cantrell': (5.9, 65), \n",
    "'Kierra Gentry': (6.0, 68), \n",
    "'Pierre Cox': (5.8, 66)}\n",
    "\n",
    "Height > 6ft and Weight > 70kg:\n",
    "{'Cierra Vega': (6.2, 70)}\n"
   ]
  },
  {
   "cell_type": "code",
   "execution_count": 25,
   "id": "02be82e3",
   "metadata": {},
   "outputs": [
    {
     "name": "stdout",
     "output_type": "stream",
     "text": [
      "Height >= 6ft and Weight >= 70kg\n",
      "('Cierra Vega', (6.2, 70))\n"
     ]
    }
   ],
   "source": [
    "def student_weight(dictt, height, weight):\n",
    "    for keys, values in dictt.items():\n",
    "        if values >= (height,weight):\n",
    "            print(f'Height >= {height}ft and Weight >= {weight}kg')\n",
    "            return keys,values\n",
    "            # if int(student.value[2]) >= weight:\n",
    "            #     print(f'Height > {height}ft and Weight > {weight}kg')\n",
    "            #     print(student)\n",
    "\n",
    "\n",
    "\n",
    "\n",
    "\n",
    "height = int('6')\n",
    "weight = int('70')\n",
    "dictt = {'Cierra Vega': (6.2, 70), \n",
    "'Alden Cantrell': (5.9, 65), \n",
    "'Kierra Gentry': (6.0, 68), \n",
    "'Pierre Cox': (5.8, 66)}\n",
    "print(student_weight(dict,height, weight))"
   ]
  }
 ],
 "metadata": {
  "kernelspec": {
   "display_name": "Python 3",
   "language": "python",
   "name": "python3"
  },
  "language_info": {
   "codemirror_mode": {
    "name": "ipython",
    "version": 3
   },
   "file_extension": ".py",
   "mimetype": "text/x-python",
   "name": "python",
   "nbconvert_exporter": "python",
   "pygments_lexer": "ipython3",
   "version": "3.12.1"
  }
 },
 "nbformat": 4,
 "nbformat_minor": 5
}
